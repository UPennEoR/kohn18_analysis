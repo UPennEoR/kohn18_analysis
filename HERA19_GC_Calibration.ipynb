{
 "cells": [
  {
   "cell_type": "code",
   "execution_count": 1,
   "metadata": {},
   "outputs": [
    {
     "name": "stderr",
     "output_type": "stream",
     "text": [
      "/Users/jaguirre/anaconda3/envs/hera/lib/python2.7/site-packages/healpy/sphtfunc.py:28: RuntimeWarning: numpy.dtype size changed, may indicate binary incompatibility. Expected 96, got 88\n",
      "  from . import _sphtools as _sphtools\n",
      "/Users/jaguirre/anaconda3/envs/hera/lib/python2.7/site-packages/healpy/sphtfunc.py:28: RuntimeWarning: numpy.ufunc size changed, may indicate binary incompatibility. Expected 192, got 176\n",
      "  from . import _sphtools as _sphtools\n",
      "/Users/jaguirre/anaconda3/envs/hera/lib/python2.7/site-packages/healpy/__init__.py:47: RuntimeWarning: numpy.dtype size changed, may indicate binary incompatibility. Expected 96, got 88\n",
      "  from ._query_disc import query_disc, query_strip, query_polygon, boundaries\n",
      "/Users/jaguirre/anaconda3/envs/hera/lib/python2.7/site-packages/healpy/__init__.py:47: RuntimeWarning: numpy.ufunc size changed, may indicate binary incompatibility. Expected 192, got 176\n",
      "  from ._query_disc import query_disc, query_strip, query_polygon, boundaries\n",
      "/Users/jaguirre/anaconda3/envs/hera/lib/python2.7/site-packages/healpy/__init__.py:48: RuntimeWarning: numpy.dtype size changed, may indicate binary incompatibility. Expected 96, got 88\n",
      "  from ._pixelfunc import ringinfo, pix2ring\n",
      "/Users/jaguirre/anaconda3/envs/hera/lib/python2.7/site-packages/healpy/__init__.py:48: RuntimeWarning: numpy.ufunc size changed, may indicate binary incompatibility. Expected 192, got 176\n",
      "  from ._pixelfunc import ringinfo, pix2ring\n",
      "/Users/jaguirre/anaconda3/envs/hera/lib/python2.7/site-packages/h5py/__init__.py:36: RuntimeWarning: numpy.dtype size changed, may indicate binary incompatibility. Expected 96, got 88\n",
      "  from ._conv import register_converters as _register_converters\n",
      "/Users/jaguirre/anaconda3/envs/hera/lib/python2.7/site-packages/h5py/__init__.py:45: RuntimeWarning: numpy.dtype size changed, may indicate binary incompatibility. Expected 96, got 88\n",
      "  from . import h5a, h5d, h5ds, h5f, h5fd, h5g, h5r, h5s, h5t, h5p, h5z\n",
      "/Users/jaguirre/anaconda3/envs/hera/lib/python2.7/site-packages/h5py/_hl/group.py:22: RuntimeWarning: numpy.dtype size changed, may indicate binary incompatibility. Expected 96, got 88\n",
      "  from .. import h5g, h5i, h5o, h5r, h5t, h5l, h5p\n"
     ]
    }
   ],
   "source": [
    "import numpy as np\n",
    "import matplotlib.pyplot as plt\n",
    "import healpy as hp\n",
    "from astropy import units as u\n",
    "from astropy import constants as c\n",
    "from pygsm import GlobalSkyModel2016, GlobalSkyModel"
   ]
  },
  {
   "cell_type": "code",
   "execution_count": 2,
   "metadata": {},
   "outputs": [],
   "source": [
    "maps = []\n",
    "freqs = np.linspace(100,200,num=10)*u.MHz\n",
    "for f in freqs:\n",
    "    gsm = GlobalSkyModel(freq_unit='MHz')\n",
    "    gsm.generate(f)\n",
    "    maps.append(gsm.generated_map_data)"
   ]
  },
  {
   "cell_type": "code",
   "execution_count": 5,
   "metadata": {},
   "outputs": [],
   "source": [
    "%matplotlib qt\n",
    "hp.mollview(np.log10(maps[0]),title='',notext=True,cbar=False)\n",
    "#plt.savefig('GSM150MHzEQ.png')\n",
    "plt.show()"
   ]
  },
  {
   "cell_type": "code",
   "execution_count": 14,
   "metadata": {},
   "outputs": [],
   "source": [
    "hp.mollzoom(maps[0])"
   ]
  },
  {
   "cell_type": "code",
   "execution_count": 14,
   "metadata": {},
   "outputs": [
    {
     "name": "stdout",
     "output_type": "stream",
     "text": [
      "512\n"
     ]
    }
   ],
   "source": [
    "npix = len(maps[0])\n",
    "nside = hp.npix2nside(npix)\n",
    "print nside"
   ]
  },
  {
   "cell_type": "code",
   "execution_count": 7,
   "metadata": {},
   "outputs": [],
   "source": [
    "ipix_gc = hp.ang2pix(nside,np.pi/2.,0.)"
   ]
  },
  {
   "cell_type": "code",
   "execution_count": 8,
   "metadata": {},
   "outputs": [
    {
     "data": {
      "text/plain": [
       "1569792"
      ]
     },
     "execution_count": 8,
     "metadata": {},
     "output_type": "execute_result"
    }
   ],
   "source": [
    "ipix_gc"
   ]
  },
  {
   "cell_type": "code",
   "execution_count": 9,
   "metadata": {},
   "outputs": [],
   "source": [
    "disc_gc = hp.query_disc(nside,hp.ang2vec(np.pi/2.,0.),np.radians(1.0),inclusive=True)"
   ]
  },
  {
   "cell_type": "code",
   "execution_count": 11,
   "metadata": {},
   "outputs": [],
   "source": [
    "gc_spec_pt = []\n",
    "gc_spec_disc = []\n",
    "for m in maps:\n",
    "    gc_spec_pt.append(m[ipix_gc])\n",
    "    gc_spec_disc.append(m[disc_gc].mean())\n",
    "gc_spec_pt = np.array(gc_spec_pt)*u.K\n",
    "gc_spec_disc = np.array(gc_spec_disc)*u.K"
   ]
  },
  {
   "cell_type": "code",
   "execution_count": 36,
   "metadata": {},
   "outputs": [
    {
     "data": {
      "image/png": "[encoded data removed]",
      "text/plain": [
       "<Figure size 432x288 with 1 Axes>"
      ]
     },
     "metadata": {},
     "output_type": "display_data"
    }
   ],
   "source": [
    "%matplotlib inline\n",
    "plt.plot(freqs,gc_spec_pt)\n",
    "plt.plot(freqs,gc_spec_disc)\n",
    "plt.plot(freqs,2.e4*np.power(freqs/150.,-2.5),color='red')\n",
    "plt.ylabel('GC Brightness [K]')\n",
    "plt.xlabel('Frequency [MHz]')\n",
    "plt.show()"
   ]
  },
  {
   "cell_type": "code",
   "execution_count": 37,
   "metadata": {},
   "outputs": [
    {
     "name": "stdout",
     "output_type": "stream",
     "text": [
      "[2.96152458 2.66537212 2.42306557 2.22114344 2.05028625 1.90383723\n",
      " 1.77691475 1.66585758 1.56786595 1.48076229] deg\n",
      "[100.         111.11111111 122.22222222 133.33333333 144.44444444\n",
      " 155.55555556 166.66666667 177.77777778 188.88888889 200.        ] MHz\n",
      "[0.00303969 0.00246215 0.00203484 0.00170983 0.00145689 0.0012562\n",
      " 0.00109429 0.00096178 0.00085196 0.00075992] sr\n"
     ]
    }
   ],
   "source": [
    "# What's the HERA19 synthesized beam?  Could pull from psf produced by CASA, but let's make a guess\n",
    "lmbda = (c.c/freqs).to(u.m)\n",
    "b_max = 58.*u.m\n",
    "FWHM = (lmbda/b_max)*u.radian\n",
    "omega_B = (2.*np.pi*np.power(FWHM/2.35,2)).to(u.steradian)\n",
    "print FWHM.to(u.degree)\n",
    "print freqs\n",
    "print omega_B"
   ]
  },
  {
   "cell_type": "code",
   "execution_count": 38,
   "metadata": {},
   "outputs": [],
   "source": [
    "jy_beam_pt = np.zeros(len(gc_spec_pt))\n",
    "jy_beam_disc = np.zeros(len(gc_spec_pt))\n",
    "for i,f in enumerate(freqs):\n",
    "    equiv = u.brightness_temperature(omega_B[i],f)\n",
    "    jy_beam_pt[i] = gc_spec_pt[i].to(u.Jy,equivalencies=equiv).value\n",
    "    jy_beam_disc[i] = gc_spec_disc[i].to(u.Jy,equivalencies=equiv).value"
   ]
  },
  {
   "cell_type": "code",
   "execution_count": 39,
   "metadata": {},
   "outputs": [],
   "source": [
    "eq11 = 3709.*np.power(freqs/(408.*u.MHz),-0.5)\n",
    "test = 15000.*np.power(freqs/(150.*u.MHz),-2.5)"
   ]
  },
  {
   "cell_type": "code",
   "execution_count": 41,
   "metadata": {},
   "outputs": [
    {
     "data": {
      "image/png": "[encoded data removed]",
      "text/plain": [
       "<Figure size 432x288 with 1 Axes>"
      ]
     },
     "metadata": {},
     "output_type": "display_data"
    }
   ],
   "source": [
    "#plt.plot(freqs,jy_beam_pt)\n",
    "#plt.plot(freqs,jy_beam_disc)\n",
    "plt.plot(freqs,eq11)\n",
    "#plt.plot(freqs,test)\n",
    "plt.show()"
   ]
  },
  {
   "cell_type": "code",
   "execution_count": 59,
   "metadata": {},
   "outputs": [
    {
     "data": {
      "text/plain": [
       "[<matplotlib.lines.Line2D at 0x10e46fa90>]"
      ]
     },
     "execution_count": 59,
     "metadata": {},
     "output_type": "execute_result"
    },
    {
     "data": {
      "image/png": "[encoded data removed]",
      "text/plain": [
       "<Figure size 432x288 with 1 Axes>"
      ]
     },
     "metadata": {},
     "output_type": "display_data"
    }
   ],
   "source": [
    "plt.loglog(freqs,jy_beam_pt*omega_B)\n",
    "plt.loglog(freqs,23.*np.power(freqs/(150.*u.MHz),-4.5))"
   ]
  },
  {
   "cell_type": "code",
   "execution_count": 21,
   "metadata": {},
   "outputs": [
    {
     "data": {
      "image/png": "[encoded data removed]",
      "text/plain": [
       "<Figure size 432x288 with 1 Axes>"
      ]
     },
     "metadata": {},
     "output_type": "display_data"
    }
   ],
   "source": [
    "%matplotlib inline\n",
    "plt.plot(maps[0])\n",
    "plt.axvline(ipix_gc,color='red',linestyle='--')\n",
    "plt.show()"
   ]
  },
  {
   "cell_type": "code",
   "execution_count": 61,
   "metadata": {},
   "outputs": [
    {
     "data": {
      "text/plain": [
       "38512.994215231804"
      ]
     },
     "execution_count": 61,
     "metadata": {},
     "output_type": "execute_result"
    }
   ],
   "source": [
    "3709.*np.power(160./408.,-2.5)"
   ]
  },
  {
   "cell_type": "code",
   "execution_count": 62,
   "metadata": {},
   "outputs": [
    {
     "data": {
      "text/latex": [
       "$[100,~111.11111,~122.22222,~133.33333,~144.44444,~155.55556,~166.66667,~177.77778,~188.88889,~200] \\; \\mathrm{MHz}$"
      ],
      "text/plain": [
       "<Quantity [ 100.        , 111.11111111, 122.22222222, 133.33333333,\n",
       "            144.44444444, 155.55555556, 166.66666667, 177.77777778,\n",
       "            188.88888889, 200.        ] MHz>"
      ]
     },
     "execution_count": 62,
     "metadata": {},
     "output_type": "execute_result"
    }
   ],
   "source": [
    "freqs"
   ]
  },
  {
   "cell_type": "code",
   "execution_count": 63,
   "metadata": {},
   "outputs": [
    {
     "data": {
      "text/plain": [
       "10312.634089385707"
      ]
     },
     "execution_count": 63,
     "metadata": {},
     "output_type": "execute_result"
    }
   ],
   "source": [
    "jy_beam_disc[5]"
   ]
  },
  {
   "cell_type": "code",
   "execution_count": 19,
   "metadata": {},
   "outputs": [
    {
     "data": {
      "text/plain": [
       "29.296875"
      ]
     },
     "execution_count": 19,
     "metadata": {},
     "output_type": "execute_result"
    }
   ],
   "source": [
    "300./1024.*100."
   ]
  },
  {
   "cell_type": "code",
   "execution_count": 20,
   "metadata": {},
   "outputs": [
    {
     "data": {
      "text/plain": [
       "1.0986122886681098"
      ]
     },
     "execution_count": 20,
     "metadata": {},
     "output_type": "execute_result"
    }
   ],
   "source": [
    "np.log(3.)"
   ]
  },
  {
   "cell_type": "code",
   "execution_count": 21,
   "metadata": {},
   "outputs": [],
   "source": [
    "def pwr(nu,nu0,alpha):\n",
    "    return np.power(nu/nu0,-alpha)"
   ]
  },
  {
   "cell_type": "code",
   "execution_count": 24,
   "metadata": {},
   "outputs": [
    {
     "name": "stdout",
     "output_type": "stream",
     "text": [
      "1.0\n",
      "1.5774409656148782\n"
     ]
    }
   ],
   "source": [
    "print pwr(150.,150.,-1.)\n",
    "print pwr(180.,150.,-2.5)"
   ]
  },
  {
   "cell_type": "code",
   "execution_count": 44,
   "metadata": {},
   "outputs": [
    {
     "data": {
      "text/plain": [
       "[<matplotlib.lines.Line2D at 0x121cdfd50>]"
      ]
     },
     "execution_count": 44,
     "metadata": {},
     "output_type": "execute_result"
    },
    {
     "data": {
      "image/png": "[encoded data removed]",
      "text/plain": [
       "<Figure size 432x288 with 1 Axes>"
      ]
     },
     "metadata": {},
     "output_type": "display_data"
    }
   ],
   "source": [
    "plt.plot((freqs.value-100.)*1024./100.,3709.*pwr(freqs,150.,2.7))"
   ]
  },
  {
   "cell_type": "code",
   "execution_count": 3,
   "metadata": {},
   "outputs": [],
   "source": [
    "def Saul11(nu):\n",
    "    return 3709*np.power(nu/408.,-0.5)"
   ]
  },
  {
   "cell_type": "code",
   "execution_count": 5,
   "metadata": {},
   "outputs": [
    {
     "data": {
      "text/latex": [
       "$[100,~111.11111,~122.22222,~133.33333,~144.44444,~155.55556,~166.66667,~177.77778,~188.88889,~200] \\; \\mathrm{MHz}$"
      ],
      "text/plain": [
       "<Quantity [100.        , 111.11111111, 122.22222222, 133.33333333,\n",
       "           144.44444444, 155.55555556, 166.66666667, 177.77777778,\n",
       "           188.88888889, 200.        ] MHz>"
      ]
     },
     "execution_count": 5,
     "metadata": {},
     "output_type": "execute_result"
    }
   ],
   "source": [
    "freqs"
   ]
  },
  {
   "cell_type": "code",
   "execution_count": 8,
   "metadata": {},
   "outputs": [
    {
     "data": {
      "text/plain": [
       "(0, 8000)"
      ]
     },
     "execution_count": 8,
     "metadata": {},
     "output_type": "execute_result"
    },
    {
     "data": {
      "image/png": "[encoded data removed]",
      "text/plain": [
       "<Figure size 432x288 with 1 Axes>"
      ]
     },
     "metadata": {},
     "output_type": "display_data"
    }
   ],
   "source": [
    "plt.plot(freqs,Saul11(freqs))\n",
    "plt.ylim([0,8000])"
   ]
  },
  {
   "cell_type": "code",
   "execution_count": 9,
   "metadata": {},
   "outputs": [
    {
     "data": {
      "text/plain": [
       "134.1796875"
      ]
     },
     "execution_count": 9,
     "metadata": {},
     "output_type": "execute_result"
    }
   ],
   "source": [
    "350./1024.*100.+100."
   ]
  },
  {
   "cell_type": "code",
   "execution_count": 10,
   "metadata": {},
   "outputs": [
    {
     "data": {
      "text/latex": [
       "$2.864789 \\; \\mathrm{{}^{\\circ}}$"
      ],
      "text/plain": [
       "<Quantity 2.86478898 deg>"
      ]
     },
     "execution_count": 10,
     "metadata": {},
     "output_type": "execute_result"
    }
   ],
   "source": [
    "(0.05*u.rad).to(u.deg)"
   ]
  },
  {
   "cell_type": "code",
   "execution_count": 11,
   "metadata": {},
   "outputs": [
    {
     "data": {
      "text/latex": [
       "$[100,~111.11111,~122.22222,~133.33333,~144.44444,~155.55556,~166.66667,~177.77778,~188.88889,~200] \\; \\mathrm{MHz}$"
      ],
      "text/plain": [
       "<Quantity [100.        , 111.11111111, 122.22222222, 133.33333333,\n",
       "           144.44444444, 155.55555556, 166.66666667, 177.77777778,\n",
       "           188.88888889, 200.        ] MHz>"
      ]
     },
     "execution_count": 11,
     "metadata": {},
     "output_type": "execute_result"
    }
   ],
   "source": [
    "freqs"
   ]
  },
  {
   "cell_type": "code",
   "execution_count": 12,
   "metadata": {},
   "outputs": [
    {
     "data": {
      "text/plain": [
       "[<matplotlib.lines.Line2D at 0x122dd7e90>]"
      ]
     },
     "execution_count": 12,
     "metadata": {},
     "output_type": "execute_result"
    },
    {
     "data": {
      "image/png": "[encoded data removed]",
      "text/plain": [
       "<Figure size 432x288 with 1 Axes>"
      ]
     },
     "metadata": {},
     "output_type": "display_data"
    }
   ],
   "source": [
    "plt.plot(freqs,(2.*np.pi*10.*u.ns*freqs).to(u.dimensionless_unscaled))"
   ]
  },
  {
   "cell_type": "code",
   "execution_count": 13,
   "metadata": {},
   "outputs": [
    {
     "data": {
      "text/latex": [
       "$1.5 \\; \\mathrm{}$"
      ],
      "text/plain": [
       "<Quantity 1.5>"
      ]
     },
     "execution_count": 13,
     "metadata": {},
     "output_type": "execute_result"
    }
   ],
   "source": [
    "(10*u.ns*150*u.MHz).to(u.dimensionless_unscaled)"
   ]
  },
  {
   "cell_type": "code",
   "execution_count": 17,
   "metadata": {},
   "outputs": [
    {
     "data": {
      "text/latex": [
       "$0.33333333 \\; \\mathrm{ns}$"
      ],
      "text/plain": [
       "<Quantity 0.33333333 ns>"
      ]
     },
     "execution_count": 17,
     "metadata": {},
     "output_type": "execute_result"
    }
   ],
   "source": [
    "((12.*u.deg).to(u.rad).value/(2.*np.pi)/(100.*u.MHz)).to(u.ns)"
   ]
  },
  {
   "cell_type": "code",
   "execution_count": null,
   "metadata": {},
   "outputs": [],
   "source": []
  }
 ],
 "metadata": {
  "anaconda-cloud": {},
  "kernelspec": {
   "display_name": "Python 2",
   "language": "python",
   "name": "python2"
  },
  "language_info": {
   "codemirror_mode": {
    "name": "ipython",
    "version": 2
   },
   "file_extension": ".py",
   "mimetype": "text/x-python",
   "name": "python",
   "nbconvert_exporter": "python",
   "pygments_lexer": "ipython2",
   "version": "2.7.15"
  }
 },
 "nbformat": 4,
 "nbformat_minor": 1
}
