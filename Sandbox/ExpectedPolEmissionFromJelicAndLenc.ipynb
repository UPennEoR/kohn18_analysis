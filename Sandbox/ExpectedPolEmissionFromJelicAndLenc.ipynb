{
 "cells": [
  {
   "cell_type": "code",
   "execution_count": 1,
   "metadata": {},
   "outputs": [],
   "source": [
    "import numpy as np\n",
    "import matplotlib.pyplot as plt\n",
    "from astropy import units as u\n",
    "from astropy import constants as c"
   ]
  },
  {
   "cell_type": "code",
   "execution_count": 2,
   "metadata": {},
   "outputs": [],
   "source": [
    "# Suppose the fluctions on 2 - 8 degree scales are order 5 - 10 K\n",
    "# What scales were Lenc and Jelic sensitive to?\n",
    "# Jelic ~ 5 degree\n",
    "theta_min = ((2*u.m/(14.6*u.m)).to(u.dimensionless_unscaled)*u.radian).to(u.degree)\n",
    "theta_max = ((2*u.m/(54.*u.m)).to(u.dimensionless_unscaled)*u.radian).to(u.degree)"
   ]
  },
  {
   "cell_type": "code",
   "execution_count": 3,
   "metadata": {},
   "outputs": [
    {
     "name": "stdout",
     "output_type": "stream",
     "text": [
      "7.8487369196 deg\n",
      "2.12206590789 deg\n"
     ]
    }
   ],
   "source": [
    "print theta_min\n",
    "print theta_max"
   ]
  },
  {
   "cell_type": "code",
   "execution_count": 4,
   "metadata": {},
   "outputs": [],
   "source": [
    "T_P = 5*u.K\n",
    "T_I = 200*u.K\n",
    "pspec_ratio = np.power(T_P/T_I,2)"
   ]
  },
  {
   "cell_type": "code",
   "execution_count": 10,
   "metadata": {},
   "outputs": [
    {
     "name": "stdout",
     "output_type": "stream",
     "text": [
      "Polarized fluctations fraction 0.0308007028824\n",
      "Polarized fluctations in K 6.16014057648 K\n"
     ]
    }
   ],
   "source": [
    "P_I = 1e16\n",
    "P_P_meas = np.power(10,13.5)\n",
    "P_P_leak = 0.7 * P_P_meas\n",
    "P_P_int = P_P_meas-P_P_leak\n",
    "print 'Polarized fluctations fraction', np.sqrt(P_P_int/P_I)\n",
    "print 'Polarized fluctations in K', np.sqrt(P_P_int/P_I)*T_I"
   ]
  },
  {
   "cell_type": "code",
   "execution_count": null,
   "metadata": {},
   "outputs": [],
   "source": []
  }
 ],
 "metadata": {
  "kernelspec": {
   "display_name": "Python 2",
   "language": "python",
   "name": "python2"
  },
  "language_info": {
   "codemirror_mode": {
    "name": "ipython",
    "version": 2
   },
   "file_extension": ".py",
   "mimetype": "text/x-python",
   "name": "python",
   "nbconvert_exporter": "python",
   "pygments_lexer": "ipython2",
   "version": "2.7.14"
  }
 },
 "nbformat": 4,
 "nbformat_minor": 2
}
